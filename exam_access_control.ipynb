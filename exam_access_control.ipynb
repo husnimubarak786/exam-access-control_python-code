{
  "nbformat": 4,
  "nbformat_minor": 0,
  "metadata": {
    "colab": {
      "provenance": [],
      "authorship_tag": "ABX9TyNRg225Jt45twBdZQqOdaUu",
      "include_colab_link": true
    },
    "kernelspec": {
      "name": "python3",
      "display_name": "Python 3"
    },
    "language_info": {
      "name": "python"
    }
  },
  "cells": [
    {
      "cell_type": "markdown",
      "metadata": {
        "id": "view-in-github",
        "colab_type": "text"
      },
      "source": [
        "<a href=\"https://colab.research.google.com/github/husnimubarak786/exam-access-control_python-code/blob/main/exam_access_control.ipynb\" target=\"_parent\"><img src=\"https://colab.research.google.com/assets/colab-badge.svg\" alt=\"Open In Colab\"/></a>"
      ]
    },
    {
      "cell_type": "code",
      "execution_count": null,
      "metadata": {
        "id": "zVWBP6Cx30VI"
      },
      "outputs": [],
      "source": [
        "pin=[4321]\n",
        "for i in range(3,0,-1):\n",
        "  pin=input()\n",
        "  if pin==\"4321\":\n",
        "    print(\"Access Granded to Exam Portal\")\n",
        "    break\n",
        "  else:\n",
        "    if i-1>0:\n",
        "      print(\"wrong\" , i-1 ,\"attempts left\")\n",
        "    else:\n",
        "      print(\"Exam Access Locked\")"
      ]
    }
  ]
}